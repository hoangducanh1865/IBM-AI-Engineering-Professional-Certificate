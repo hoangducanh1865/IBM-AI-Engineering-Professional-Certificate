{
 "cells": [
  {
   "cell_type": "code",
   "execution_count": 18,
   "id": "ade9fe73",
   "metadata": {},
   "outputs": [],
   "source": [
    "import numpy as np\n",
    "import pandas as pd\n",
    "import keras\n",
    "import warnings\n",
    "warnings.simplefilter('ignore', FutureWarning)"
   ]
  },
  {
   "cell_type": "code",
   "execution_count": 29,
   "id": "3bae5e3f",
   "metadata": {},
   "outputs": [],
   "source": [
    "# CHECK THE DATA"
   ]
  },
  {
   "cell_type": "code",
   "execution_count": 31,
   "id": "db7ed3c6",
   "metadata": {},
   "outputs": [],
   "source": [
    "filepath = '/Users/hoangducanh/Downloads/concrete_data.csv'\n",
    "df = pd.read_csv(filepath)\n",
    "# df.head()"
   ]
  },
  {
   "cell_type": "code",
   "execution_count": 32,
   "id": "23b0b369",
   "metadata": {},
   "outputs": [],
   "source": [
    "# df.shape"
   ]
  },
  {
   "cell_type": "code",
   "execution_count": 30,
   "id": "f0507fa2",
   "metadata": {},
   "outputs": [],
   "source": [
    "# df.describe()"
   ]
  },
  {
   "cell_type": "code",
   "execution_count": 34,
   "id": "782e6a6b",
   "metadata": {},
   "outputs": [],
   "source": [
    "# df.isnull().sum() # this command used for checking how many missing values there are"
   ]
  },
  {
   "cell_type": "code",
   "execution_count": 28,
   "id": "aa96f943",
   "metadata": {},
   "outputs": [],
   "source": [
    "# SPLIT DATA IN TO PREDICTORS AND TARGET"
   ]
  },
  {
   "cell_type": "code",
   "execution_count": 23,
   "id": "155d1cb9",
   "metadata": {},
   "outputs": [],
   "source": [
    "df_columns = df.columns\n",
    "predictors = df[df_columns[df_columns != 'Strength']]\n",
    "target = df['Strength']"
   ]
  },
  {
   "cell_type": "code",
   "execution_count": 26,
   "id": "a38dca36",
   "metadata": {},
   "outputs": [],
   "source": [
    "# predictors.head()"
   ]
  },
  {
   "cell_type": "code",
   "execution_count": 27,
   "id": "37dad11e",
   "metadata": {},
   "outputs": [],
   "source": [
    "# target.head()"
   ]
  },
  {
   "cell_type": "code",
   "execution_count": 35,
   "id": "35b40fb7",
   "metadata": {},
   "outputs": [],
   "source": [
    "# NOMALIZE DATA"
   ]
  },
  {
   "cell_type": "code",
   "execution_count": 38,
   "id": "ab1388b3",
   "metadata": {},
   "outputs": [
    {
     "name": "stdout",
     "output_type": "stream",
     "text": [
      "(1030, 8)\n"
     ]
    }
   ],
   "source": [
    "predictors_nom = (predictors - predictors.mean()) / predictors.std()\n",
    "# predictors_nom.head()"
   ]
  },
  {
   "cell_type": "code",
   "execution_count": 41,
   "id": "46241cca",
   "metadata": {},
   "outputs": [],
   "source": [
    "n_cols = predictors.shape[1]"
   ]
  },
  {
   "cell_type": "code",
   "execution_count": 42,
   "id": "aef85619",
   "metadata": {},
   "outputs": [],
   "source": [
    "from keras.models import Sequential\n",
    "from keras.layers import Dense, Input"
   ]
  },
  {
   "cell_type": "code",
   "execution_count": 43,
   "id": "e9aae3e2",
   "metadata": {},
   "outputs": [],
   "source": [
    "# DEFINE REGRESSION MODEL"
   ]
  },
  {
   "cell_type": "code",
   "execution_count": 49,
   "id": "7cae0223",
   "metadata": {},
   "outputs": [],
   "source": [
    "def regression_model():\n",
    "    # Create model\n",
    "    model = Sequential()\n",
    "    model.add(Input(shape = (n_cols,)))\n",
    "    model.add(Dense(50, activation='relu'))\n",
    "    model.add(Dense(50, activation='relu'))\n",
    "    model.add(Dense(1))\n",
    "    \n",
    "    # Compile model\n",
    "    model.compile(optimizer='adam', loss='mean_squared_error')\n",
    "    return model"
   ]
  },
  {
   "cell_type": "code",
   "execution_count": 50,
   "id": "0e4ae3d5",
   "metadata": {},
   "outputs": [],
   "source": [
    "# BUILD THE MODEL"
   ]
  },
  {
   "cell_type": "code",
   "execution_count": 51,
   "id": "425e085b",
   "metadata": {},
   "outputs": [],
   "source": [
    "model = regression_model()"
   ]
  },
  {
   "cell_type": "code",
   "execution_count": 52,
   "id": "a51e804b",
   "metadata": {},
   "outputs": [],
   "source": [
    "# FIT THE MODEL "
   ]
  },
  {
   "cell_type": "code",
   "execution_count": 53,
   "id": "55399f32",
   "metadata": {},
   "outputs": [
    {
     "name": "stdout",
     "output_type": "stream",
     "text": [
      "Epoch 1/100\n",
      "23/23 - 1s - 57ms/step - loss: 1652.3112 - val_loss: 1140.2888\n",
      "Epoch 2/100\n",
      "23/23 - 0s - 5ms/step - loss: 1524.2363 - val_loss: 1023.3365\n",
      "Epoch 3/100\n",
      "23/23 - 0s - 4ms/step - loss: 1328.9895 - val_loss: 852.0754\n",
      "Epoch 4/100\n",
      "23/23 - 0s - 5ms/step - loss: 1038.2831 - val_loss: 634.0936\n",
      "Epoch 5/100\n",
      "23/23 - 0s - 4ms/step - loss: 688.9720 - val_loss: 411.4298\n",
      "Epoch 6/100\n",
      "23/23 - 0s - 4ms/step - loss: 388.7096 - val_loss: 260.4824\n",
      "Epoch 7/100\n",
      "23/23 - 0s - 6ms/step - loss: 246.8610 - val_loss: 198.8623\n",
      "Epoch 8/100\n",
      "23/23 - 0s - 5ms/step - loss: 212.1448 - val_loss: 183.0484\n",
      "Epoch 9/100\n",
      "23/23 - 0s - 5ms/step - loss: 200.9247 - val_loss: 177.2971\n",
      "Epoch 10/100\n",
      "23/23 - 0s - 5ms/step - loss: 192.9187 - val_loss: 173.5524\n",
      "Epoch 11/100\n",
      "23/23 - 0s - 10ms/step - loss: 186.5829 - val_loss: 172.7969\n",
      "Epoch 12/100\n",
      "23/23 - 0s - 14ms/step - loss: 181.4138 - val_loss: 170.1227\n",
      "Epoch 13/100\n",
      "23/23 - 0s - 6ms/step - loss: 176.7256 - val_loss: 165.3141\n",
      "Epoch 14/100\n",
      "23/23 - 0s - 6ms/step - loss: 173.1888 - val_loss: 163.1710\n",
      "Epoch 15/100\n",
      "23/23 - 0s - 5ms/step - loss: 169.8221 - val_loss: 158.7453\n",
      "Epoch 16/100\n",
      "23/23 - 0s - 6ms/step - loss: 166.4228 - val_loss: 159.7050\n",
      "Epoch 17/100\n",
      "23/23 - 0s - 7ms/step - loss: 163.4296 - val_loss: 156.3649\n",
      "Epoch 18/100\n",
      "23/23 - 0s - 17ms/step - loss: 161.6811 - val_loss: 154.6609\n",
      "Epoch 19/100\n",
      "23/23 - 0s - 19ms/step - loss: 159.3681 - val_loss: 153.2135\n",
      "Epoch 20/100\n",
      "23/23 - 0s - 10ms/step - loss: 156.6597 - val_loss: 152.6242\n",
      "Epoch 21/100\n",
      "23/23 - 0s - 5ms/step - loss: 154.5253 - val_loss: 153.1101\n",
      "Epoch 22/100\n",
      "23/23 - 0s - 5ms/step - loss: 152.5097 - val_loss: 151.4940\n",
      "Epoch 23/100\n",
      "23/23 - 0s - 5ms/step - loss: 151.6556 - val_loss: 150.4105\n",
      "Epoch 24/100\n",
      "23/23 - 0s - 4ms/step - loss: 149.8922 - val_loss: 150.3166\n",
      "Epoch 25/100\n",
      "23/23 - 0s - 4ms/step - loss: 147.7835 - val_loss: 148.2744\n",
      "Epoch 26/100\n",
      "23/23 - 0s - 4ms/step - loss: 146.0632 - val_loss: 147.8356\n",
      "Epoch 27/100\n",
      "23/23 - 0s - 5ms/step - loss: 144.1163 - val_loss: 148.4825\n",
      "Epoch 28/100\n",
      "23/23 - 0s - 5ms/step - loss: 143.1460 - val_loss: 148.9344\n",
      "Epoch 29/100\n",
      "23/23 - 0s - 4ms/step - loss: 141.5489 - val_loss: 145.8138\n",
      "Epoch 30/100\n",
      "23/23 - 0s - 5ms/step - loss: 139.7179 - val_loss: 146.8302\n",
      "Epoch 31/100\n",
      "23/23 - 0s - 4ms/step - loss: 138.2167 - val_loss: 146.9169\n",
      "Epoch 32/100\n",
      "23/23 - 0s - 4ms/step - loss: 137.3899 - val_loss: 147.4770\n",
      "Epoch 33/100\n",
      "23/23 - 0s - 4ms/step - loss: 135.2139 - val_loss: 145.1647\n",
      "Epoch 34/100\n",
      "23/23 - 0s - 4ms/step - loss: 133.4335 - val_loss: 147.6125\n",
      "Epoch 35/100\n",
      "23/23 - 0s - 4ms/step - loss: 132.0872 - val_loss: 146.1892\n",
      "Epoch 36/100\n",
      "23/23 - 0s - 4ms/step - loss: 130.8594 - val_loss: 143.3538\n",
      "Epoch 37/100\n",
      "23/23 - 0s - 5ms/step - loss: 130.8233 - val_loss: 145.4274\n",
      "Epoch 38/100\n",
      "23/23 - 0s - 4ms/step - loss: 127.7418 - val_loss: 142.1381\n",
      "Epoch 39/100\n",
      "23/23 - 0s - 4ms/step - loss: 125.7029 - val_loss: 143.6870\n",
      "Epoch 40/100\n",
      "23/23 - 0s - 4ms/step - loss: 123.8995 - val_loss: 143.5284\n",
      "Epoch 41/100\n",
      "23/23 - 0s - 4ms/step - loss: 122.5576 - val_loss: 142.9396\n",
      "Epoch 42/100\n",
      "23/23 - 0s - 4ms/step - loss: 120.8973 - val_loss: 141.1976\n",
      "Epoch 43/100\n",
      "23/23 - 0s - 4ms/step - loss: 118.7536 - val_loss: 144.6074\n",
      "Epoch 44/100\n",
      "23/23 - 0s - 4ms/step - loss: 117.3232 - val_loss: 141.1655\n",
      "Epoch 45/100\n",
      "23/23 - 0s - 4ms/step - loss: 115.6444 - val_loss: 140.9699\n",
      "Epoch 46/100\n",
      "23/23 - 0s - 4ms/step - loss: 113.1086 - val_loss: 143.5470\n",
      "Epoch 47/100\n",
      "23/23 - 0s - 3ms/step - loss: 111.4377 - val_loss: 141.5565\n",
      "Epoch 48/100\n",
      "23/23 - 0s - 4ms/step - loss: 109.5393 - val_loss: 141.9886\n",
      "Epoch 49/100\n",
      "23/23 - 0s - 3ms/step - loss: 107.7404 - val_loss: 138.9758\n",
      "Epoch 50/100\n",
      "23/23 - 0s - 3ms/step - loss: 105.2048 - val_loss: 140.6793\n",
      "Epoch 51/100\n",
      "23/23 - 0s - 4ms/step - loss: 102.8017 - val_loss: 137.8496\n",
      "Epoch 52/100\n",
      "23/23 - 0s - 4ms/step - loss: 100.4633 - val_loss: 137.6255\n",
      "Epoch 53/100\n",
      "23/23 - 0s - 4ms/step - loss: 98.3888 - val_loss: 135.8189\n",
      "Epoch 54/100\n",
      "23/23 - 0s - 4ms/step - loss: 96.2669 - val_loss: 136.9433\n",
      "Epoch 55/100\n",
      "23/23 - 0s - 4ms/step - loss: 93.5097 - val_loss: 129.9538\n",
      "Epoch 56/100\n",
      "23/23 - 0s - 4ms/step - loss: 89.9614 - val_loss: 132.2445\n",
      "Epoch 57/100\n",
      "23/23 - 0s - 4ms/step - loss: 87.5846 - val_loss: 129.4678\n",
      "Epoch 58/100\n",
      "23/23 - 0s - 11ms/step - loss: 84.7160 - val_loss: 126.0477\n",
      "Epoch 59/100\n",
      "23/23 - 0s - 7ms/step - loss: 81.8248 - val_loss: 125.2002\n",
      "Epoch 60/100\n",
      "23/23 - 0s - 4ms/step - loss: 79.7375 - val_loss: 127.3084\n",
      "Epoch 61/100\n",
      "23/23 - 0s - 4ms/step - loss: 77.6306 - val_loss: 122.0678\n",
      "Epoch 62/100\n",
      "23/23 - 0s - 4ms/step - loss: 75.3859 - val_loss: 127.5037\n",
      "Epoch 63/100\n",
      "23/23 - 0s - 3ms/step - loss: 72.3009 - val_loss: 122.7463\n",
      "Epoch 64/100\n",
      "23/23 - 0s - 3ms/step - loss: 70.5259 - val_loss: 125.2011\n",
      "Epoch 65/100\n",
      "23/23 - 0s - 4ms/step - loss: 68.0863 - val_loss: 120.1366\n",
      "Epoch 66/100\n",
      "23/23 - 0s - 4ms/step - loss: 65.6873 - val_loss: 119.3397\n",
      "Epoch 67/100\n",
      "23/23 - 0s - 4ms/step - loss: 63.1431 - val_loss: 117.1549\n",
      "Epoch 68/100\n",
      "23/23 - 0s - 4ms/step - loss: 61.6381 - val_loss: 113.3904\n",
      "Epoch 69/100\n",
      "23/23 - 0s - 4ms/step - loss: 59.3595 - val_loss: 113.6088\n",
      "Epoch 70/100\n",
      "23/23 - 0s - 4ms/step - loss: 57.8468 - val_loss: 111.7947\n",
      "Epoch 71/100\n",
      "23/23 - 0s - 3ms/step - loss: 56.1053 - val_loss: 109.8611\n",
      "Epoch 72/100\n",
      "23/23 - 0s - 3ms/step - loss: 55.0870 - val_loss: 115.1920\n",
      "Epoch 73/100\n",
      "23/23 - 0s - 3ms/step - loss: 53.4686 - val_loss: 114.1453\n",
      "Epoch 74/100\n",
      "23/23 - 0s - 3ms/step - loss: 52.0118 - val_loss: 110.1411\n",
      "Epoch 75/100\n",
      "23/23 - 0s - 4ms/step - loss: 51.1571 - val_loss: 121.8639\n",
      "Epoch 76/100\n",
      "23/23 - 0s - 3ms/step - loss: 49.6595 - val_loss: 109.8471\n",
      "Epoch 77/100\n",
      "23/23 - 0s - 3ms/step - loss: 48.3701 - val_loss: 114.2709\n",
      "Epoch 78/100\n",
      "23/23 - 0s - 3ms/step - loss: 47.5439 - val_loss: 117.0038\n",
      "Epoch 79/100\n",
      "23/23 - 0s - 3ms/step - loss: 46.4139 - val_loss: 114.6065\n",
      "Epoch 80/100\n",
      "23/23 - 0s - 3ms/step - loss: 45.4543 - val_loss: 110.9734\n",
      "Epoch 81/100\n",
      "23/23 - 0s - 3ms/step - loss: 45.1677 - val_loss: 122.3482\n",
      "Epoch 82/100\n",
      "23/23 - 0s - 3ms/step - loss: 44.9867 - val_loss: 114.3608\n",
      "Epoch 83/100\n",
      "23/23 - 0s - 3ms/step - loss: 43.4358 - val_loss: 111.9841\n",
      "Epoch 84/100\n",
      "23/23 - 0s - 3ms/step - loss: 43.0024 - val_loss: 113.3180\n",
      "Epoch 85/100\n",
      "23/23 - 0s - 3ms/step - loss: 41.3279 - val_loss: 124.9397\n",
      "Epoch 86/100\n",
      "23/23 - 0s - 3ms/step - loss: 41.7188 - val_loss: 113.3918\n",
      "Epoch 87/100\n",
      "23/23 - 0s - 3ms/step - loss: 40.3643 - val_loss: 108.3061\n",
      "Epoch 88/100\n",
      "23/23 - 0s - 4ms/step - loss: 40.1335 - val_loss: 112.1274\n",
      "Epoch 89/100\n",
      "23/23 - 0s - 4ms/step - loss: 39.1025 - val_loss: 114.8505\n",
      "Epoch 90/100\n",
      "23/23 - 0s - 4ms/step - loss: 39.1957 - val_loss: 118.8204\n",
      "Epoch 91/100\n",
      "23/23 - 0s - 4ms/step - loss: 38.0777 - val_loss: 119.5483\n",
      "Epoch 92/100\n",
      "23/23 - 0s - 4ms/step - loss: 38.1542 - val_loss: 121.8589\n",
      "Epoch 93/100\n",
      "23/23 - 0s - 4ms/step - loss: 37.9218 - val_loss: 126.5824\n",
      "Epoch 94/100\n",
      "23/23 - 0s - 4ms/step - loss: 36.3732 - val_loss: 121.9870\n",
      "Epoch 95/100\n",
      "23/23 - 0s - 4ms/step - loss: 37.6163 - val_loss: 122.2216\n",
      "Epoch 96/100\n",
      "23/23 - 0s - 4ms/step - loss: 36.0591 - val_loss: 122.7216\n",
      "Epoch 97/100\n",
      "23/23 - 0s - 6ms/step - loss: 35.2930 - val_loss: 115.8039\n",
      "Epoch 98/100\n",
      "23/23 - 0s - 4ms/step - loss: 35.9295 - val_loss: 122.4700\n",
      "Epoch 99/100\n",
      "23/23 - 0s - 4ms/step - loss: 34.5450 - val_loss: 127.5340\n",
      "Epoch 100/100\n",
      "23/23 - 0s - 4ms/step - loss: 35.1105 - val_loss: 130.7118\n"
     ]
    },
    {
     "data": {
      "text/plain": [
       "<keras.src.callbacks.history.History at 0x1579f99d0>"
      ]
     },
     "execution_count": 53,
     "metadata": {},
     "output_type": "execute_result"
    }
   ],
   "source": [
    "model.fit(predictors_nom, target, validation_split=0.3, epochs=100, verbose=2)"
   ]
  },
  {
   "cell_type": "code",
   "execution_count": null,
   "id": "f9944085",
   "metadata": {},
   "outputs": [],
   "source": []
  }
 ],
 "metadata": {
  "kernelspec": {
   "display_name": "env",
   "language": "python",
   "name": "python3"
  },
  "language_info": {
   "codemirror_mode": {
    "name": "ipython",
    "version": 3
   },
   "file_extension": ".py",
   "mimetype": "text/x-python",
   "name": "python",
   "nbconvert_exporter": "python",
   "pygments_lexer": "ipython3",
   "version": "3.12.0"
  }
 },
 "nbformat": 4,
 "nbformat_minor": 5
}
