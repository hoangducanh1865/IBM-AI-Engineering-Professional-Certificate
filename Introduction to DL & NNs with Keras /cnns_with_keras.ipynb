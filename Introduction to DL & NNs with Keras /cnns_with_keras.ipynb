{
 "cells": [
  {
   "cell_type": "code",
   "execution_count": 1,
   "metadata": {},
   "outputs": [],
   "source": [
    "import keras\n",
    "from keras.models import Sequential\n",
    "from keras.layers import Dense, Conv2D, MaxPooling2D, Flatten\n",
    "from keras.utils import to_categorical"
   ]
  },
  {
   "cell_type": "code",
   "execution_count": 3,
   "metadata": {},
   "outputs": [],
   "source": [
    "# LOAD AND CHECK THE DATA"
   ]
  },
  {
   "cell_type": "code",
   "execution_count": 4,
   "metadata": {},
   "outputs": [],
   "source": [
    "from keras.datasets import mnist\n",
    "(X_train, y_train), (X_test, y_test) = mnist.load_data()\n",
    "# Reshape to [samples][pixels][width][height]\n",
    "X_train = X_train.reshape(X_train.shape[0], 28, 28, 1).astype('float32')\n",
    "X_test = X_test.reshape(X_test.shape[0], 28, 28, 1).astype('float32')"
   ]
  },
  {
   "cell_type": "code",
   "execution_count": 5,
   "metadata": {},
   "outputs": [],
   "source": [
    "# NOMALIZE DATA"
   ]
  },
  {
   "cell_type": "code",
   "execution_count": 6,
   "metadata": {},
   "outputs": [],
   "source": [
    "X_train = X_train / 255\n",
    "X_test = X_test / 255"
   ]
  },
  {
   "cell_type": "code",
   "execution_count": 7,
   "metadata": {},
   "outputs": [],
   "source": [
    "# CONVERT TAGERT VALUES INTO BINARY CATEGORIES"
   ]
  },
  {
   "cell_type": "code",
   "execution_count": 8,
   "metadata": {},
   "outputs": [],
   "source": [
    "y_train = to_categorical(y_train)\n",
    "y_test = to_categorical(y_test)\n",
    "num_classes = y_train.shape[1] # number of categories"
   ]
  },
  {
   "cell_type": "code",
   "execution_count": 18,
   "metadata": {},
   "outputs": [],
   "source": [
    "# CONVOLUTIONAL LAYER WITH ONE SET OF CONVOLUTIONAL AND POOLING LAYERS"
   ]
  },
  {
   "cell_type": "code",
   "execution_count": 15,
   "metadata": {},
   "outputs": [],
   "source": [
    "# DEFINE MODEL "
   ]
  },
  {
   "cell_type": "code",
   "execution_count": 11,
   "metadata": {},
   "outputs": [],
   "source": [
    "def convolutioncal_model():\n",
    "    # Create model\n",
    "    model = Sequential()\n",
    "    model.add(Conv2D(16, (5, 5), strides=(1, 1), activation='relu', input_shape=(28, 28, 1)))\n",
    "    model.add(MaxPooling2D(pool_size=(2, 2), strides=(2, 2)))\n",
    "    \n",
    "    # Doan nay khong hieu???\n",
    "    model.add(Flatten()) # ???\n",
    "    model.add(Dense(100, activation='relu'))\n",
    "    model.add(Dense(num_classes, activation='softmax'))\n",
    "    \n",
    "    # Compile model\n",
    "    model.compile(optimizer='adam', loss='categorical_crossentropy', metrics=['accuracy'])\n",
    "    return model"
   ]
  },
  {
   "cell_type": "code",
   "execution_count": 12,
   "metadata": {},
   "outputs": [],
   "source": [
    "# TRAIN AND TEST THE MODEL"
   ]
  },
  {
   "cell_type": "code",
   "execution_count": 14,
   "metadata": {},
   "outputs": [
    {
     "name": "stderr",
     "output_type": "stream",
     "text": [
      "/Users/hoangducanh/Documents/CNTT/Coursera/IBM AI Engineering Professional Certificate/Introduction to DL & NNs with Keras /env/lib/python3.12/site-packages/keras/src/layers/convolutional/base_conv.py:107: UserWarning: Do not pass an `input_shape`/`input_dim` argument to a layer. When using Sequential models, prefer using an `Input(shape)` object as the first layer in the model instead.\n",
      "  super().__init__(activity_regularizer=activity_regularizer, **kwargs)\n"
     ]
    },
    {
     "name": "stdout",
     "output_type": "stream",
     "text": [
      "Epoch 1/10\n",
      "300/300 - 8s - 28ms/step - accuracy: 0.9229 - loss: 0.2784 - val_accuracy: 0.9728 - val_loss: 0.0907\n",
      "Epoch 2/10\n",
      "300/300 - 9s - 31ms/step - accuracy: 0.9769 - loss: 0.0802 - val_accuracy: 0.9821 - val_loss: 0.0604\n",
      "Epoch 3/10\n",
      "300/300 - 8s - 28ms/step - accuracy: 0.9840 - loss: 0.0555 - val_accuracy: 0.9835 - val_loss: 0.0497\n",
      "Epoch 4/10\n",
      "300/300 - 7s - 25ms/step - accuracy: 0.9866 - loss: 0.0437 - val_accuracy: 0.9856 - val_loss: 0.0460\n",
      "Epoch 5/10\n",
      "300/300 - 14s - 47ms/step - accuracy: 0.9890 - loss: 0.0366 - val_accuracy: 0.9884 - val_loss: 0.0395\n",
      "Epoch 6/10\n",
      "300/300 - 9s - 29ms/step - accuracy: 0.9912 - loss: 0.0292 - val_accuracy: 0.9861 - val_loss: 0.0397\n",
      "Epoch 7/10\n",
      "300/300 - 7s - 24ms/step - accuracy: 0.9925 - loss: 0.0247 - val_accuracy: 0.9877 - val_loss: 0.0360\n",
      "Epoch 8/10\n",
      "300/300 - 7s - 22ms/step - accuracy: 0.9939 - loss: 0.0206 - val_accuracy: 0.9887 - val_loss: 0.0371\n",
      "Epoch 9/10\n",
      "300/300 - 8s - 26ms/step - accuracy: 0.9948 - loss: 0.0177 - val_accuracy: 0.9885 - val_loss: 0.0361\n",
      "Epoch 10/10\n",
      "300/300 - 7s - 25ms/step - accuracy: 0.9948 - loss: 0.0165 - val_accuracy: 0.9896 - val_loss: 0.0376\n",
      "Accuracy: 0.9896000027656555 \n",
      "Error: 0.010399997234344482\n"
     ]
    }
   ],
   "source": [
    "model = convolutioncal_model()\n",
    "model.fit(X_train, y_train, validation_data=(X_test, y_test), epochs=10, batch_size=200, verbose=2)\n",
    "\n",
    "# Evaluate model\n",
    "scores = model.evaluate(X_test, y_test, verbose=0) # why need 'verbose' parameter here???\n",
    "print(\"Accuracy: {} \\nError: {}\".format(scores[1], 1 - scores[1]))"
   ]
  },
  {
   "cell_type": "code",
   "execution_count": 20,
   "metadata": {},
   "outputs": [],
   "source": [
    "# CONVOLUTIONAL LAYER WITH TWO SETS OF CONVOLUTIONAL AND POOLING LAYERS"
   ]
  },
  {
   "cell_type": "code",
   "execution_count": 21,
   "metadata": {},
   "outputs": [],
   "source": [
    "# DEFINE MODEL"
   ]
  },
  {
   "cell_type": "code",
   "execution_count": 22,
   "metadata": {},
   "outputs": [],
   "source": [
    "def convolutioncal_model():\n",
    "    # Create model\n",
    "    model = Sequential()\n",
    "    model.add(Conv2D(16, (5, 5), activation='relu', input_shape=(28, 28, 1)))\n",
    "    model.add(MaxPooling2D(pool_size=(2, 2), strides=(2, 2)))\n",
    "    \n",
    "    model.add(Conv2D(8, (2, 2), activation='relu'))\n",
    "    model.add(MaxPooling2D(pool_size=(2, 2), strides=(2, 2)))\n",
    "    \n",
    "    model.add(Flatten())\n",
    "    model.add(Dense(100, activation='relu'))\n",
    "    model.add(Dense(num_classes, activation='softmax'))\n",
    "    \n",
    "    # Compile model \n",
    "    model.compile(optimizer='adam', loss='categorical_crossentropy',  metrics=['accuracy'])\n",
    "    \n",
    "    return model"
   ]
  },
  {
   "cell_type": "code",
   "execution_count": 23,
   "metadata": {},
   "outputs": [],
   "source": [
    "# TRAIN AND TEST MODEL"
   ]
  },
  {
   "cell_type": "code",
   "execution_count": 26,
   "metadata": {},
   "outputs": [
    {
     "name": "stderr",
     "output_type": "stream",
     "text": [
      "/Users/hoangducanh/Documents/CNTT/Coursera/IBM AI Engineering Professional Certificate/Introduction to DL & NNs with Keras /env/lib/python3.12/site-packages/keras/src/layers/convolutional/base_conv.py:107: UserWarning: Do not pass an `input_shape`/`input_dim` argument to a layer. When using Sequential models, prefer using an `Input(shape)` object as the first layer in the model instead.\n",
      "  super().__init__(activity_regularizer=activity_regularizer, **kwargs)\n"
     ]
    },
    {
     "name": "stdout",
     "output_type": "stream",
     "text": [
      "Epoch 1/10\n",
      "300/300 - 9s - 31ms/step - accuracy: 0.8648 - loss: 0.4676 - val_accuracy: 0.9601 - val_loss: 0.1403\n",
      "Epoch 2/10\n",
      "300/300 - 7s - 22ms/step - accuracy: 0.9650 - loss: 0.1178 - val_accuracy: 0.9760 - val_loss: 0.0783\n",
      "Epoch 3/10\n",
      "300/300 - 6s - 21ms/step - accuracy: 0.9737 - loss: 0.0857 - val_accuracy: 0.9814 - val_loss: 0.0590\n",
      "Epoch 4/10\n",
      "300/300 - 7s - 25ms/step - accuracy: 0.9786 - loss: 0.0701 - val_accuracy: 0.9806 - val_loss: 0.0606\n",
      "Epoch 5/10\n",
      "300/300 - 10s - 34ms/step - accuracy: 0.9819 - loss: 0.0583 - val_accuracy: 0.9840 - val_loss: 0.0474\n",
      "Epoch 6/10\n",
      "300/300 - 12s - 38ms/step - accuracy: 0.9839 - loss: 0.0518 - val_accuracy: 0.9854 - val_loss: 0.0464\n",
      "Epoch 7/10\n",
      "300/300 - 8s - 28ms/step - accuracy: 0.9852 - loss: 0.0464 - val_accuracy: 0.9857 - val_loss: 0.0434\n",
      "Epoch 8/10\n",
      "300/300 - 7s - 23ms/step - accuracy: 0.9870 - loss: 0.0412 - val_accuracy: 0.9849 - val_loss: 0.0422\n",
      "Epoch 9/10\n",
      "300/300 - 7s - 22ms/step - accuracy: 0.9889 - loss: 0.0359 - val_accuracy: 0.9864 - val_loss: 0.0414\n",
      "Epoch 10/10\n",
      "300/300 - 8s - 25ms/step - accuracy: 0.9898 - loss: 0.0332 - val_accuracy: 0.9880 - val_loss: 0.0344\n",
      "Accuracy: 0.9879999756813049 \n",
      "Error: 0.012000024318695068\n"
     ]
    }
   ],
   "source": [
    "model = convolutioncal_model()\n",
    "model.fit(X_train, y_train, validation_data=(X_test, y_test), epochs=10, batch_size=200, verbose=2) \n",
    "# QUESTION: What is 'batch_size' parameter used for???\n",
    "\n",
    "# Evaluate model\n",
    "scores = model.evaluate(X_test, y_test, verbose=0)\n",
    "print(\"Accuracy: {} \\nError: {}\".format(scores[1], 1 - scores[1]))"
   ]
  },
  {
   "cell_type": "code",
   "execution_count": null,
   "metadata": {},
   "outputs": [],
   "source": []
  }
 ],
 "metadata": {
  "kernelspec": {
   "display_name": "env",
   "language": "python",
   "name": "python3"
  },
  "language_info": {
   "codemirror_mode": {
    "name": "ipython",
    "version": 3
   },
   "file_extension": ".py",
   "mimetype": "text/x-python",
   "name": "python",
   "nbconvert_exporter": "python",
   "pygments_lexer": "ipython3",
   "version": "3.12.0"
  }
 },
 "nbformat": 4,
 "nbformat_minor": 2
}
