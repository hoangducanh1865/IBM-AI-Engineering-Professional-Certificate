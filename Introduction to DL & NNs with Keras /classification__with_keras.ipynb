{
 "cells": [
  {
   "cell_type": "code",
   "execution_count": 71,
   "metadata": {},
   "outputs": [],
   "source": [
    "import keras\n",
    "import numpy as np\n",
    "import pandas as pd\n",
    "from keras.models import Sequential\n",
    "from keras.layers import Dense\n",
    "from keras.layers import Input\n",
    "from keras.utils import to_categorical\n",
    "import matplotlib.pyplot as plt"
   ]
  },
  {
   "cell_type": "code",
   "execution_count": 72,
   "metadata": {},
   "outputs": [],
   "source": [
    "# DOWNLOAD AND CHECK THE DATA"
   ]
  },
  {
   "cell_type": "code",
   "execution_count": 73,
   "metadata": {},
   "outputs": [],
   "source": [
    "from keras.datasets import mnist\n",
    "\n",
    "(X_train, y_train), (X_test, y_test) = mnist.load_data()"
   ]
  },
  {
   "cell_type": "code",
   "execution_count": 74,
   "metadata": {},
   "outputs": [],
   "source": [
    "# X_train.shape"
   ]
  },
  {
   "cell_type": "code",
   "execution_count": 75,
   "metadata": {},
   "outputs": [],
   "source": [
    "# plt.imshow(X_train[0])"
   ]
  },
  {
   "cell_type": "code",
   "execution_count": 76,
   "metadata": {},
   "outputs": [],
   "source": [
    "# FLATTEN IMAGES INTO 1D VECTORS"
   ]
  },
  {
   "cell_type": "code",
   "execution_count": 77,
   "metadata": {},
   "outputs": [],
   "source": [
    "num_pixels = X_train.shape[1] * X_train.shape[2]\n",
    "X_train = X_train.reshape(X_train.shape[0], num_pixels).astype('float32')\n",
    "X_test = X_test.reshape(X_test.shape[0], num_pixels).astype('float32')"
   ]
  },
  {
   "cell_type": "code",
   "execution_count": 78,
   "metadata": {},
   "outputs": [],
   "source": [
    "# NOMALIZE INPUT FROM 0-255 TO 0-1"
   ]
  },
  {
   "cell_type": "code",
   "execution_count": 79,
   "metadata": {},
   "outputs": [],
   "source": [
    "X_train = X_train / 255\n",
    "X_test = X_test / 255"
   ]
  },
  {
   "cell_type": "code",
   "execution_count": 80,
   "metadata": {},
   "outputs": [],
   "source": [
    "# ENCODE OUTPUTS\n",
    "y_train = to_categorical(y_train)\n",
    "y_test = to_categorical(y_test)\n",
    "\n",
    "num_classes = y_test.shape[1]\n",
    "# print(num_classes)"
   ]
  },
  {
   "cell_type": "code",
   "execution_count": 81,
   "metadata": {},
   "outputs": [],
   "source": [
    "# BUILD A NEURAL NETWORK"
   ]
  },
  {
   "cell_type": "code",
   "execution_count": 82,
   "metadata": {},
   "outputs": [],
   "source": [
    "def classification_model():\n",
    "    # Create model \n",
    "    model = Sequential()\n",
    "    model.add(Input(shape=(num_pixels,))) # why have to have ','?\n",
    "    model.add(Dense(num_pixels, activation='relu'))\n",
    "    model.add(Dense(100, activation='relu'))\n",
    "    model.add(Dense(num_classes, activation='softmax'))\n",
    "    \n",
    "    # Compile model \n",
    "    model.compile(optimizer='adam', loss='categorical_crossentropy', metrics=['accuracy'])\n",
    "    return model\n",
    "    "
   ]
  },
  {
   "cell_type": "code",
   "execution_count": 83,
   "metadata": {},
   "outputs": [],
   "source": [
    "# TRAIN AND TEST THE NETWORK"
   ]
  },
  {
   "cell_type": "code",
   "execution_count": 84,
   "metadata": {},
   "outputs": [
    {
     "name": "stdout",
     "output_type": "stream",
     "text": [
      "Epoch 1/10\n",
      "1875/1875 - 14s - 8ms/step - accuracy: 0.9435 - loss: 0.1860 - val_accuracy: 0.9723 - val_loss: 0.0913\n",
      "Epoch 2/10\n",
      "1875/1875 - 12s - 7ms/step - accuracy: 0.9759 - loss: 0.0788 - val_accuracy: 0.9722 - val_loss: 0.0881\n",
      "Epoch 3/10\n",
      "1875/1875 - 10s - 5ms/step - accuracy: 0.9819 - loss: 0.0551 - val_accuracy: 0.9747 - val_loss: 0.0868\n",
      "Epoch 4/10\n",
      "1875/1875 - 10s - 5ms/step - accuracy: 0.9872 - loss: 0.0390 - val_accuracy: 0.9806 - val_loss: 0.0639\n",
      "Epoch 5/10\n",
      "1875/1875 - 9s - 5ms/step - accuracy: 0.9898 - loss: 0.0312 - val_accuracy: 0.9777 - val_loss: 0.0762\n",
      "Epoch 6/10\n",
      "1875/1875 - 10s - 6ms/step - accuracy: 0.9920 - loss: 0.0258 - val_accuracy: 0.9786 - val_loss: 0.0736\n",
      "Epoch 7/10\n",
      "1875/1875 - 10s - 5ms/step - accuracy: 0.9926 - loss: 0.0224 - val_accuracy: 0.9799 - val_loss: 0.0821\n",
      "Epoch 8/10\n",
      "1875/1875 - 9s - 5ms/step - accuracy: 0.9936 - loss: 0.0205 - val_accuracy: 0.9802 - val_loss: 0.0799\n",
      "Epoch 9/10\n",
      "1875/1875 - 11s - 6ms/step - accuracy: 0.9947 - loss: 0.0178 - val_accuracy: 0.9813 - val_loss: 0.0818\n",
      "Epoch 10/10\n",
      "1875/1875 - 11s - 6ms/step - accuracy: 0.9951 - loss: 0.0162 - val_accuracy: 0.9793 - val_loss: 0.0910\n"
     ]
    },
    {
     "data": {
      "text/plain": [
       "<keras.src.callbacks.history.History at 0x15b9ca210>"
      ]
     },
     "execution_count": 84,
     "metadata": {},
     "output_type": "execute_result"
    }
   ],
   "source": [
    "model = classification_model()\n",
    "model.fit(X_train, y_train, validation_data=(X_test, y_test), epochs=10, verbose=2)"
   ]
  },
  {
   "cell_type": "code",
   "execution_count": 85,
   "metadata": {},
   "outputs": [
    {
     "name": "stdout",
     "output_type": "stream",
     "text": [
      "\u001b[1m313/313\u001b[0m \u001b[32m━━━━━━━━━━━━━━━━━━━━\u001b[0m\u001b[37m\u001b[0m \u001b[1m1s\u001b[0m 2ms/step - accuracy: 0.9751 - loss: 0.1096\n"
     ]
    }
   ],
   "source": [
    "# score = model.evaluate(X_test, y_test, verbose=0)\n",
    "score = model.evaluate(X_test, y_test)\n",
    "# print(score)"
   ]
  },
  {
   "cell_type": "code",
   "execution_count": 86,
   "metadata": {},
   "outputs": [],
   "source": [
    "# print(\"Accuracy: {}%\".format(np.around(score[1] * 100, decimals=2)))"
   ]
  },
  {
   "cell_type": "code",
   "execution_count": 87,
   "metadata": {},
   "outputs": [],
   "source": [
    "# SAVE MODEL"
   ]
  },
  {
   "cell_type": "code",
   "execution_count": 88,
   "metadata": {},
   "outputs": [],
   "source": [
    "model.save('classification_model.keras')"
   ]
  },
  {
   "cell_type": "code",
   "execution_count": 89,
   "metadata": {},
   "outputs": [],
   "source": [
    "# USE SAVED MODEL"
   ]
  },
  {
   "cell_type": "code",
   "execution_count": 90,
   "metadata": {},
   "outputs": [],
   "source": [
    "pretrained_model = keras.saving.load_model('classification_model.keras')"
   ]
  },
  {
   "cell_type": "code",
   "execution_count": null,
   "metadata": {},
   "outputs": [],
   "source": []
  }
 ],
 "metadata": {
  "kernelspec": {
   "display_name": "env",
   "language": "python",
   "name": "python3"
  },
  "language_info": {
   "codemirror_mode": {
    "name": "ipython",
    "version": 3
   },
   "file_extension": ".py",
   "mimetype": "text/x-python",
   "name": "python",
   "nbconvert_exporter": "python",
   "pygments_lexer": "ipython3",
   "version": "3.12.0"
  }
 },
 "nbformat": 4,
 "nbformat_minor": 2
}
