{
 "cells": [
  {
   "cell_type": "code",
   "execution_count": 1,
   "id": "09774d1b",
   "metadata": {},
   "outputs": [],
   "source": [
    "import numpy as np"
   ]
  },
  {
   "cell_type": "code",
   "execution_count": 5,
   "id": "6494bff4",
   "metadata": {},
   "outputs": [],
   "source": [
    "# Test sinh tu do cac thanh phan weights va biases"
   ]
  },
  {
   "cell_type": "code",
   "execution_count": 6,
   "id": "cd083f53",
   "metadata": {},
   "outputs": [],
   "source": [
    "weights = np.around(np.random.uniform(size=6), decimals=2)\n",
    "biases = np.around(np.random.uniform(size=3), decimals=2)"
   ]
  },
  {
   "cell_type": "code",
   "execution_count": 7,
   "id": "cdc68b44",
   "metadata": {},
   "outputs": [
    {
     "name": "stdout",
     "output_type": "stream",
     "text": [
      "[0.57 0.4  0.55 0.43 0.45 0.94]\n",
      "[0.68 0.51 0.8 ]\n"
     ]
    }
   ],
   "source": [
    "print(weights)\n",
    "print(biases)"
   ]
  },
  {
   "cell_type": "code",
   "execution_count": 8,
   "id": "e937fe9a",
   "metadata": {},
   "outputs": [],
   "source": [
    "# Test ket qua dau ra trong TH dau vao la (x1, x2) = (0.5, 0.85)"
   ]
  },
  {
   "cell_type": "code",
   "execution_count": 9,
   "id": "d7848cd2",
   "metadata": {},
   "outputs": [],
   "source": [
    "x_1 = 0.5\n",
    "x_2 = 0.85"
   ]
  },
  {
   "cell_type": "code",
   "execution_count": 10,
   "id": "76e982cf",
   "metadata": {},
   "outputs": [],
   "source": [
    "z_11 = x_1 * weights[0] + x_2 * weights[1] + biases[0]"
   ]
  },
  {
   "cell_type": "code",
   "execution_count": 11,
   "id": "e48bfee7",
   "metadata": {},
   "outputs": [],
   "source": [
    "z_12 = x_1 * weights[2] + x_2 * weights[3] + biases[1]"
   ]
  },
  {
   "cell_type": "code",
   "execution_count": 12,
   "id": "7efdde01",
   "metadata": {},
   "outputs": [],
   "source": [
    "a_11 = 1.0 / (1.0 + np.exp(-z_11))"
   ]
  },
  {
   "cell_type": "code",
   "execution_count": 13,
   "id": "0c7bd311",
   "metadata": {},
   "outputs": [],
   "source": [
    "a_12 = 1.0 / (1.0 + np.exp(-z_12))"
   ]
  },
  {
   "cell_type": "code",
   "execution_count": 14,
   "id": "1eeca1a1",
   "metadata": {},
   "outputs": [],
   "source": [
    "z_2 = a_11 * weights[4] + a_12 * weights[5] + biases[2] "
   ]
  },
  {
   "cell_type": "code",
   "execution_count": 15,
   "id": "ed618fd3",
   "metadata": {},
   "outputs": [],
   "source": [
    "a_2 = 1.0 / (1.0 + np.exp(-z_2))"
   ]
  },
  {
   "cell_type": "code",
   "execution_count": 16,
   "id": "8c128df0",
   "metadata": {},
   "outputs": [
    {
     "name": "stdout",
     "output_type": "stream",
     "text": [
      "Output of the network with x1 = 0.5 ans x2 = 0.85 is 0.8662\n"
     ]
    }
   ],
   "source": [
    "print(\"Output of the network with x1 = 0.5 ans x2 = 0.85 is {}\".format(np.around(a_2, decimals=4)))"
   ]
  },
  {
   "cell_type": "code",
   "execution_count": 17,
   "id": "54685657",
   "metadata": {},
   "outputs": [],
   "source": [
    "# Build a Neural Network"
   ]
  },
  {
   "cell_type": "code",
   "execution_count": 18,
   "id": "dec1fcc6",
   "metadata": {},
   "outputs": [],
   "source": [
    "n = 2 # so luong nut cua lop dau vao\n",
    "num_hidden_layers = 2 # so luong lop hidden\n",
    "m = [2, 2] # so luong nut cua moi lop hidden\n",
    "num_nodes_output = 1 # so luong not cua lop dau ra"
   ]
  },
  {
   "cell_type": "code",
   "execution_count": 19,
   "id": "cc3ab496",
   "metadata": {},
   "outputs": [],
   "source": [
    "# import numpy as np\n",
    "# num_nodes_prev = n # previous layer's number of nodes\n",
    "# network = {} # ???\n",
    "# for layer in range(num_hidden_layers + 1): # +1 do phai tinh den ca lop dau ra\n",
    "#     if layer == num_hidden_layers:\n",
    "#         layer_name = \"output\"\n",
    "#         num_nodes = num_nodes_output\n",
    "#     else:\n",
    "#         layer_name = 'layer_{}'.format(layer + 1)\n",
    "#         num_nodes = m[layer]\n",
    "#     network[layer_name] = {} # ???\n",
    "#     for node in range(num_nodes):\n",
    "#         node_name = 'node_{}'.format(node + 1)\n",
    "#         network[layer_name][node_name] = {\n",
    "#             'weights': np.around(np.random.uniform(size = num_nodes_prev), decimals = 2),\n",
    "#             'bias': np.around(np.random.uniform(size = 1), decimals = 2),\n",
    "#         }\n",
    "#     num_nodes_prev = num_nodes\n",
    "# print(network)"
   ]
  },
  {
   "cell_type": "code",
   "execution_count": 20,
   "id": "896d898f",
   "metadata": {},
   "outputs": [],
   "source": [
    "def initialize_network(num_inputs, num_hidden_layers, num_nodes_hidden, num_nodes_output):\n",
    "    num_nodes_prev = num_inputs\n",
    "    network = {}\n",
    "    for layer in range(num_hidden_layers + 1):\n",
    "        if layer == num_hidden_layers:\n",
    "            layer_name = \"output\"\n",
    "            num_nodes = num_nodes_output\n",
    "        else:\n",
    "            layer_name = \"layer_{}\".format(layer + 1)\n",
    "            num_nodes = num_nodes_hidden[layer]\n",
    "        network[layer_name] = {}\n",
    "        for node in range(num_nodes):\n",
    "            node_name = \"node_{}\".format(node + 1)\n",
    "            network[layer_name][node_name] = {\n",
    "                \"weights\": np.around(np.random.uniform(size = num_nodes_prev), decimals = 2),\n",
    "                \"bias\": np.around(np.random.uniform(size = 1), decimals = 2)\n",
    "            }\n",
    "        num_nodes_prev = num_nodes\n",
    "    return network"
   ]
  },
  {
   "cell_type": "code",
   "execution_count": 21,
   "id": "7b191d97",
   "metadata": {},
   "outputs": [],
   "source": [
    "# Test with a small network"
   ]
  },
  {
   "cell_type": "code",
   "execution_count": 22,
   "id": "7b5de1f2",
   "metadata": {},
   "outputs": [],
   "source": [
    "small_network = initialize_network(5, 3, [3, 2, 3], 1)"
   ]
  },
  {
   "cell_type": "code",
   "execution_count": 23,
   "id": "5407a021",
   "metadata": {},
   "outputs": [],
   "source": [
    "# Compute weighted sum at each node"
   ]
  },
  {
   "cell_type": "code",
   "execution_count": 24,
   "id": "cb3df170",
   "metadata": {},
   "outputs": [],
   "source": [
    "def compute_weighted_sum(inputs, weights, bias):\n",
    "    return np.sum(inputs * weights) + bias"
   ]
  },
  {
   "cell_type": "code",
   "execution_count": 25,
   "id": "c3726810",
   "metadata": {},
   "outputs": [],
   "source": [
    "from random import seed\n",
    "np.random.seed(12) # de co dinh cac gia tri random trong ca nhung lan sau\n",
    "inputs = np.around(np.random.uniform(size = 5), decimals = 2)"
   ]
  },
  {
   "cell_type": "code",
   "execution_count": 26,
   "id": "e5f6e2fc",
   "metadata": {},
   "outputs": [],
   "source": [
    "node_weights = small_network['layer_1']['node_1']['weights']\n",
    "node_bias = small_network['layer_1']['node_1']['bias']\n",
    "weighted_sum = compute_weighted_sum(inputs, node_weights, node_bias)\n",
    "# print(weighted_sum)"
   ]
  },
  {
   "cell_type": "code",
   "execution_count": 27,
   "id": "dbebe161",
   "metadata": {},
   "outputs": [],
   "source": [
    "# Compute node activation"
   ]
  },
  {
   "cell_type": "code",
   "execution_count": 28,
   "id": "c42e8eaf",
   "metadata": {},
   "outputs": [],
   "source": [
    "def node_activation(weighted_sum):\n",
    "    return 1.0 / (1.0 + np.exp(-weighted_sum))"
   ]
  },
  {
   "cell_type": "code",
   "execution_count": 29,
   "id": "0f49d912",
   "metadata": {},
   "outputs": [],
   "source": [
    "node_output = node_activation(weighted_sum[0])\n",
    "# print(node_output)"
   ]
  },
  {
   "cell_type": "code",
   "execution_count": 30,
   "id": "bb847853",
   "metadata": {},
   "outputs": [],
   "source": [
    "# Forward propagation"
   ]
  },
  {
   "cell_type": "code",
   "execution_count": 31,
   "id": "04325846",
   "metadata": {},
   "outputs": [],
   "source": [
    "# Start with the input layer as the input to the first hidden layer.\n",
    "# Compute the weighted sum at the nodes of the current layer.\n",
    "# Compute the output of the nodes of the current layer.\n",
    "# Set the output of the current layer to be the input to the next layer.\n",
    "# Move to the next layer in the network.\n",
    "# Repeat steps 2 - 4 until we compute the output of the output layer."
   ]
  },
  {
   "cell_type": "code",
   "execution_count": 32,
   "id": "4f825b95",
   "metadata": {},
   "outputs": [],
   "source": [
    "def forward_propagate(network, inputs):\n",
    "    layer_inputs = list(inputs)\n",
    "    for layer in network:\n",
    "        layer_data = network[layer]\n",
    "        layer_outputs = []\n",
    "        for layer_node in layer_data:\n",
    "            node_data = layer_data[layer_node]\n",
    "            node_output = node_activation(compute_weighted_sum(layer_inputs, node_data['weights'], node_data['bias']))\n",
    "            layer_outputs.append(np.around(node_output[0], decimals = 4))\n",
    "        if layer != 'output':\n",
    "            print('The output of the nodes in hidden layer number {} is {}'.format(layer.split('_')[1], layer_outputs))\n",
    "        layer_inputs = layer_outputs\n",
    "#     network_predictions = layer_outputs\n",
    "#     return network_predictions\n",
    "    return layer_outputs"
   ]
  },
  {
   "cell_type": "code",
   "execution_count": 33,
   "id": "5b037daf",
   "metadata": {},
   "outputs": [
    {
     "name": "stdout",
     "output_type": "stream",
     "text": [
      "The output of the nodes in hidden layer number 1 is [np.float64(0.8422), np.float64(0.8367), np.float64(0.7403)]\n",
      "The output of the nodes in hidden layer number 2 is [np.float64(0.812), np.float64(0.8116)]\n",
      "The output of the nodes in hidden layer number 3 is [np.float64(0.7938), np.float64(0.7818), np.float64(0.8357)]\n",
      "The predicted value by the network for the given input is 0.7303\n"
     ]
    }
   ],
   "source": [
    "predictions = forward_propagate(small_network, inputs)\n",
    "# print('The predicted value by the network for the given input is {}'.format(np.around(predictions[0], decimals = 4)))\n",
    "print('The predicted value by the network for the given input is {}'.format(predictions[0]))"
   ]
  },
  {
   "cell_type": "code",
   "execution_count": 34,
   "id": "5c32a251",
   "metadata": {},
   "outputs": [],
   "source": [
    "# Create new neural network"
   ]
  },
  {
   "cell_type": "code",
   "execution_count": 35,
   "id": "591a1637",
   "metadata": {},
   "outputs": [],
   "source": [
    "my_network = initialize_network(5, 3, [2, 3, 2], 3)"
   ]
  },
  {
   "cell_type": "code",
   "execution_count": 36,
   "id": "0c1e7009",
   "metadata": {},
   "outputs": [],
   "source": [
    "inputs = np.around(np.random.uniform(size = 5), decimals = 4)"
   ]
  },
  {
   "cell_type": "code",
   "execution_count": 37,
   "id": "5cb62eba",
   "metadata": {},
   "outputs": [
    {
     "name": "stdout",
     "output_type": "stream",
     "text": [
      "The output of the nodes in hidden layer number 1 is [np.float64(0.8862), np.float64(0.8895)]\n",
      "The output of the nodes in hidden layer number 2 is [np.float64(0.7823), np.float64(0.6966), np.float64(0.7412)]\n",
      "The output of the nodes in hidden layer number 3 is [np.float64(0.8681), np.float64(0.881)]\n",
      "The predicted values by the network for the given input are [np.float64(0.8952), np.float64(0.8223), np.float64(0.8035)]\n"
     ]
    }
   ],
   "source": [
    "predictions = forward_propagate(my_network, inputs)\n",
    "print('The predicted values by the network for the given input are {}'.format(predictions))"
   ]
  },
  {
   "cell_type": "code",
   "execution_count": null,
   "id": "6cffb6ed",
   "metadata": {},
   "outputs": [],
   "source": []
  }
 ],
 "metadata": {
  "kernelspec": {
   "display_name": "env",
   "language": "python",
   "name": "python3"
  },
  "language_info": {
   "codemirror_mode": {
    "name": "ipython",
    "version": 3
   },
   "file_extension": ".py",
   "mimetype": "text/x-python",
   "name": "python",
   "nbconvert_exporter": "python",
   "pygments_lexer": "ipython3",
   "version": "3.12.0"
  }
 },
 "nbformat": 4,
 "nbformat_minor": 5
}
